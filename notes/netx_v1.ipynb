{
 "cells": [
  {
   "cell_type": "code",
   "execution_count": 12,
   "metadata": {},
   "outputs": [
    {
     "ename": "ModuleNotFoundError",
     "evalue": "No module named 'scipy'",
     "output_type": "error",
     "traceback": [
      "\u001b[1;31m---------------------------------------------------------------------------\u001b[0m",
      "\u001b[1;31mModuleNotFoundError\u001b[0m                       Traceback (most recent call last)",
      "Cell \u001b[1;32mIn [12], line 25\u001b[0m\n\u001b[0;32m     22\u001b[0m node_options \u001b[39m=\u001b[39m {\u001b[39m\"\u001b[39m\u001b[39mnode_color\u001b[39m\u001b[39m\"\u001b[39m: \u001b[39m\"\u001b[39m\u001b[39mblack\u001b[39m\u001b[39m\"\u001b[39m, \u001b[39m\"\u001b[39m\u001b[39mnode_size\u001b[39m\u001b[39m\"\u001b[39m: \u001b[39m30\u001b[39m}\n\u001b[0;32m     24\u001b[0m edge_options \u001b[39m=\u001b[39m {\u001b[39m\"\u001b[39m\u001b[39mwidth\u001b[39m\u001b[39m\"\u001b[39m: \u001b[39m.50\u001b[39m, \u001b[39m\"\u001b[39m\u001b[39malpha\u001b[39m\u001b[39m\"\u001b[39m: \u001b[39m.5\u001b[39m, \u001b[39m\"\u001b[39m\u001b[39medge_color\u001b[39m\u001b[39m\"\u001b[39m: \u001b[39m\"\u001b[39m\u001b[39mblack\u001b[39m\u001b[39m\"\u001b[39m}\n\u001b[1;32m---> 25\u001b[0m nx\u001b[39m.\u001b[39;49mdraw_kamada_kawai(G)\n\u001b[0;32m     26\u001b[0m \u001b[39m#nx.draw_networkx_nodes(G, pos, **node_options)\u001b[39;00m\n\u001b[0;32m     27\u001b[0m \n\u001b[0;32m     28\u001b[0m \u001b[39m#nx.draw_networkx_edges(G, pos, **edge_options)\u001b[39;00m\n\u001b[0;32m     29\u001b[0m plt\u001b[39m.\u001b[39mshow()\n",
      "File \u001b[1;32m~\\AppData\\Local\\Packages\\PythonSoftwareFoundation.Python.3.10_qbz5n2kfra8p0\\LocalCache\\local-packages\\Python310\\site-packages\\networkx\\drawing\\nx_pylab.py:1253\u001b[0m, in \u001b[0;36mdraw_kamada_kawai\u001b[1;34m(G, **kwargs)\u001b[0m\n\u001b[0;32m   1221\u001b[0m \u001b[39mdef\u001b[39;00m \u001b[39mdraw_kamada_kawai\u001b[39m(G, \u001b[39m*\u001b[39m\u001b[39m*\u001b[39mkwargs):\n\u001b[0;32m   1222\u001b[0m     \u001b[39m\"\"\"Draw the graph `G` with a Kamada-Kawai force-directed layout.\u001b[39;00m\n\u001b[0;32m   1223\u001b[0m \n\u001b[0;32m   1224\u001b[0m \u001b[39m    This is a convenience function equivalent to::\u001b[39;00m\n\u001b[1;32m   (...)\u001b[0m\n\u001b[0;32m   1251\u001b[0m \u001b[39m    :func:`~networkx.drawing.layout.kamada_kawai_layout`\u001b[39;00m\n\u001b[0;32m   1252\u001b[0m \u001b[39m    \"\"\"\u001b[39;00m\n\u001b[1;32m-> 1253\u001b[0m     draw(G, kamada_kawai_layout(G), \u001b[39m*\u001b[39m\u001b[39m*\u001b[39mkwargs)\n",
      "File \u001b[1;32m~\\AppData\\Local\\Packages\\PythonSoftwareFoundation.Python.3.10_qbz5n2kfra8p0\\LocalCache\\local-packages\\Python310\\site-packages\\networkx\\drawing\\layout.py:709\u001b[0m, in \u001b[0;36mkamada_kawai_layout\u001b[1;34m(G, dist, pos, weight, scale, center, dim)\u001b[0m\n\u001b[0;32m    706\u001b[0m         pos \u001b[39m=\u001b[39m {n: pt \u001b[39mfor\u001b[39;00m n, pt \u001b[39min\u001b[39;00m \u001b[39mzip\u001b[39m(G, np\u001b[39m.\u001b[39mlinspace(\u001b[39m0\u001b[39m, \u001b[39m1\u001b[39m, \u001b[39mlen\u001b[39m(G)))}\n\u001b[0;32m    707\u001b[0m pos_arr \u001b[39m=\u001b[39m np\u001b[39m.\u001b[39marray([pos[n] \u001b[39mfor\u001b[39;00m n \u001b[39min\u001b[39;00m G])\n\u001b[1;32m--> 709\u001b[0m pos \u001b[39m=\u001b[39m _kamada_kawai_solve(dist_mtx, pos_arr, dim)\n\u001b[0;32m    711\u001b[0m pos \u001b[39m=\u001b[39m rescale_layout(pos, scale\u001b[39m=\u001b[39mscale) \u001b[39m+\u001b[39m center\n\u001b[0;32m    712\u001b[0m \u001b[39mreturn\u001b[39;00m \u001b[39mdict\u001b[39m(\u001b[39mzip\u001b[39m(G, pos))\n",
      "File \u001b[1;32m~\\AppData\\Local\\Packages\\PythonSoftwareFoundation.Python.3.10_qbz5n2kfra8p0\\LocalCache\\local-packages\\Python310\\site-packages\\networkx\\drawing\\layout.py:721\u001b[0m, in \u001b[0;36m_kamada_kawai_solve\u001b[1;34m(dist_mtx, pos_arr, dim)\u001b[0m\n\u001b[0;32m    715\u001b[0m \u001b[39mdef\u001b[39;00m \u001b[39m_kamada_kawai_solve\u001b[39m(dist_mtx, pos_arr, dim):\n\u001b[0;32m    716\u001b[0m     \u001b[39m# Anneal node locations based on the Kamada-Kawai cost-function,\u001b[39;00m\n\u001b[0;32m    717\u001b[0m     \u001b[39m# using the supplied matrix of preferred inter-node distances,\u001b[39;00m\n\u001b[0;32m    718\u001b[0m     \u001b[39m# and starting locations.\u001b[39;00m\n\u001b[0;32m    720\u001b[0m     \u001b[39mimport\u001b[39;00m \u001b[39mnumpy\u001b[39;00m \u001b[39mas\u001b[39;00m \u001b[39mnp\u001b[39;00m\n\u001b[1;32m--> 721\u001b[0m     \u001b[39mimport\u001b[39;00m \u001b[39mscipy\u001b[39;00m \u001b[39mas\u001b[39;00m \u001b[39msp\u001b[39;00m\n\u001b[0;32m    722\u001b[0m     \u001b[39mimport\u001b[39;00m \u001b[39mscipy\u001b[39;00m\u001b[39m.\u001b[39;00m\u001b[39moptimize\u001b[39;00m  \u001b[39m# call as sp.optimize\u001b[39;00m\n\u001b[0;32m    724\u001b[0m     meanwt \u001b[39m=\u001b[39m \u001b[39m1e-3\u001b[39m\n",
      "\u001b[1;31mModuleNotFoundError\u001b[0m: No module named 'scipy'"
     ]
    },
    {
     "data": {
      "text/plain": [
       "<Figure size 1000x800 with 0 Axes>"
      ]
     },
     "metadata": {},
     "output_type": "display_data"
    }
   ],
   "source": [
    "import networkx as nx\n",
    "import numpy as np\n",
    "import matplotlib.pyplot as plt\n",
    "\n",
    "\n",
    "G=nx.DiGraph()\n",
    "#G=nx.DiGraph([(1, 2, {\"color\": \"yellow\"})])\n",
    "#G.add_node(1)\n",
    "#G.add_nodes_from([3 ,4, 5])\n",
    "#G.add_edge(3, 4, weight=20 )\n",
    "\n",
    "G.add_edge(1, 2, weight=4.7 )\n",
    "G.add_edges_from([(3, 4), (4, 5)], color='red')\n",
    "G.add_edges_from([(6, 7, {'color': 'blue'}), (7, 4, {'weight': 8})])\n",
    "G[3][4]['weight'] = 4.7\n",
    "G.edges[4, 5]['weight'] = 4.2\n",
    "\n",
    "plt.figure(figsize = (10,8))\n",
    "\n",
    "pos = nx.kamada_kawai_layout\n",
    "\n",
    "node_options = {\"node_color\": \"black\", \"node_size\": 30}\n",
    "\n",
    "edge_options = {\"width\": .50, \"alpha\": .5, \"edge_color\": \"black\"}\n",
    "nx.draw(G)\n",
    "#nx.draw_networkx_nodes(G, pos, **node_options)\n",
    "\n",
    "#nx.draw_networkx_edges(G, pos, **edge_options)\n",
    "plt.show()\n",
    "\n",
    "\n",
    "#G.add_edge(1, 4)\n",
    "#G=nx.DiGraph(omega)\n",
    "A=nx.to_numpy_matrix(G)\n",
    "#nx.draw(G, with_labels=1)\n",
    "\n",
    "#subax1 = plt.subplot(221)\n",
    "#nx.draw_random(G,with_labels=1)\n",
    "\n",
    "#subax2 = plt.subplot(222)\n",
    "#nx.draw_circular(G,with_labels=1)\n",
    "#subax3 = plt.subplot(223)\n",
    "#nx.draw_spectral(G,with_labels=1)\n",
    "#subax4 = plt.subplot(224)\n",
    "#nx.draw_shell(G, nlist=[range(5,10), range(5)])\n",
    "\n",
    "\n",
    "\n",
    "print(A)"
   ]
  },
  {
   "cell_type": "code",
   "execution_count": null,
   "metadata": {},
   "outputs": [],
   "source": []
  }
 ],
 "metadata": {
  "kernelspec": {
   "display_name": "Python 3",
   "language": "python",
   "name": "python3"
  },
  "language_info": {
   "codemirror_mode": {
    "name": "ipython",
    "version": 3
   },
   "file_extension": ".py",
   "mimetype": "text/x-python",
   "name": "python",
   "nbconvert_exporter": "python",
   "pygments_lexer": "ipython3",
   "version": "3.10.8"
  },
  "orig_nbformat": 4,
  "vscode": {
   "interpreter": {
    "hash": "b7408228f4a5cb7fa784ffd1cf1850160bb6ada17e62283dd63a5bc45edbe552"
   }
  }
 },
 "nbformat": 4,
 "nbformat_minor": 2
}
