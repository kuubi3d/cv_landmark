{
 "cells": [
  {
   "cell_type": "code",
   "execution_count": 26,
   "metadata": {},
   "outputs": [
    {
     "name": "stdout",
     "output_type": "stream",
     "text": [
      "Nodes\n",
      "[1, 2, 3, 4, 0, 'b', 'e', 'h', 'n', 'a', 'm']\n",
      "List of edges\n",
      "[(1, 4), (1, 2), (2, 3), (2, 4), (3, 4)]\n",
      "Neighbors\n",
      "<dict_keyiterator object at 0x000001A353C7A2F0>\n",
      "Accessing edges\n",
      "{2: {}, 4: {'weight': 0.125}}\n",
      "{1: {}, 2: {'weight': 3.1415}, 3: {'weight': 0.125}}\n",
      "3.1415\n",
      "(1, 4, 5.000)\n",
      "(1, 2, 5.000)\n",
      "(2, 3, 5.000)\n",
      "(2, 4, 5.000)\n",
      "(3, 4, 5.000)\n",
      "{'time': '5pm'}\n",
      "shortest path from 1 to 3\n",
      "[1, 2, 3]\n"
     ]
    },
    {
     "data": {
      "image/png": "[encoded data removed]",
      "text/plain": [
       "<Figure size 640x480 with 1 Axes>"
      ]
     },
     "metadata": {},
     "output_type": "display_data"
    },
    {
     "ename": "",
     "evalue": "",
     "output_type": "error",
     "traceback": [
      "\u001b[1;31mThe Kernel crashed while executing code in the the current cell or a previous cell. Please review the code in the cell(s) to identify a possible cause of the failure. Click <a href='https://aka.ms/vscodeJupyterKernelCrash'>here</a> for more info. View Jupyter <a href='command:jupyter.viewOutput'>log</a> for further details."
     ]
    }
   ],
   "source": [
    "import networkx as nx\n",
    "import matplotlib.pyplot as plt\n",
    "\n",
    "G=nx.Graph()\n",
    "\n",
    "###########################Adding nodes###########################\n",
    "G.add_node(1)\n",
    "G.add_nodes_from([2,3,4])\n",
    "\n",
    "#Add an nbunch: iterable container of nodes  (e.g. a list, set, graph, file, etc..)\n",
    "H=nx.path_graph(1)\n",
    "#G now contains the nodes of H as nodes of G. \n",
    "G.add_nodes_from(H)\n",
    "#Graph of Graph\n",
    "#G.add_node(H)\n",
    "\n",
    "\n",
    "\n",
    "G.add_node(\"b\")       # adds node \"behnam\"\n",
    "G.add_nodes_from(\"behnam\") # adds 6 nodes: 'b','e' ,'h', 'n', 'a','m'\n",
    "\n",
    "\n",
    "###########################Adding edges###########################\n",
    "G.add_edge(1, 4)\n",
    "edge_2_3=(2,3)\n",
    "G.add_edge(*edge_2_3) # unpack edge tuple with *\n",
    "\n",
    "#An edge can be associated with any object x using G.add_edge(n1,n2,object=x).\n",
    "#edge_2_4=(2,4,'weight=3.1415')\n",
    "\n",
    "G.add_edge(2,4, weight=3.1415)\n",
    "\n",
    "G.add_edge(1, 2, weight=4.7)\n",
    "G.add_weighted_edges_from([(3,4,0.125)])\n",
    "\n",
    "\n",
    "###########################Accessing nodes,edges and neighbors###########################\n",
    "print('Nodes')\n",
    "print (G.nodes())\n",
    "print ('List of edges')\n",
    "print (G.edges())\n",
    "print ('Neighbors')\n",
    "print (G.neighbors(1))\n",
    "\n",
    "\n",
    "#Accessing edges\n",
    "print ('Accessing edges')\n",
    "print ((G)[3])\n",
    "print (G[4])\n",
    "print (G[4][2]['weight'])\n",
    "\n",
    "\n",
    "for (u,v,d) in G.edges(data='weight'):\n",
    "    d=5\n",
    "    if d>0.5: print('(%d, %d, %.3f)'%(u,v,d))\n",
    "\n",
    "\n",
    "###########################Adding attributes to nodes###########################\n",
    "G.add_node(1, time='5pm')\n",
    "print (G.nodes[1])\n",
    "\n",
    "G.add_edges_from([(1,2,{'color':'blue'}), (2,3,{'weight':8})])\n",
    "\n",
    "###########################Multigraphs###########################\n",
    "#allow you to add the same edge twice, possibly with different edge data.\n",
    "\n",
    "MG=nx.MultiGraph()\n",
    "MG.add_weighted_edges_from([(1,2,.5), (1,2,.75), (2,3,.5)])\n",
    "MG.degree(weight='weight')\n",
    "\n",
    "GG=nx.Graph()\n",
    "for n,nbrs in MG.adjacency():\n",
    "    for nbr,edict in nbrs.items():\n",
    "        minvalue=min([d['weight'] for d in edict.values()])\n",
    "        GG.add_edge(n,nbr, weight = minvalue)\n",
    "\n",
    "print ('shortest path from 1 to 3')\n",
    "print (nx.shortest_path(GG,1,3))\n",
    "\n",
    "\n",
    "\n",
    "###########################Graph operations###########################\n",
    "#subgraph(G, nbunch)      - induce subgraph of G on nodes in nbunh\n",
    "#union(G1,G2)             - graph union\n",
    "#disjoint_union(G1,G2)    - graph union assuming all nodes are different\n",
    "#cartesian_product(G1,G2) - return Cartesian product graph\n",
    "#compose(G1,G2)           - combine graphs identifying nodes common to both\n",
    "#complement(G)            - graph complement\n",
    "#create_empty_copy(G)     - return an empty copy of the same graph class\n",
    "#convert_to_undirected(G) - return an undirected representation of G\n",
    "#convert_to_directed(G)   - return a directed representation of G\n",
    "\n",
    "###########################Ploting Graphs ###########################\n",
    "\n",
    "\n",
    "#nx.draw_spectral(G)\n",
    "#nx.draw_circular(G)\n",
    "#nx.draw_random(G)\n",
    "\n",
    "pos=nx.spring_layout(G) # positions for all nodes\n",
    "nx.draw_networkx_labels(G,pos,font_size=20,font_family='sans-serif')\n",
    "nx.draw(G,pos)\n",
    "\n",
    "plt.show()"
   ]
  }
 ],
 "metadata": {
  "kernelspec": {
   "display_name": "Python 3.10.6 64-bit (microsoft store)",
   "language": "python",
   "name": "python3"
  },
  "language_info": {
   "codemirror_mode": {
    "name": "ipython",
    "version": 3
   },
   "file_extension": ".py",
   "mimetype": "text/x-python",
   "name": "python",
   "nbconvert_exporter": "python",
   "pygments_lexer": "ipython3",
   "version": "3.10.8 (tags/v3.10.8:aaaf517, Oct 11 2022, 16:50:30) [MSC v.1933 64 bit (AMD64)]"
  },
  "orig_nbformat": 4,
  "vscode": {
   "interpreter": {
    "hash": "b7408228f4a5cb7fa784ffd1cf1850160bb6ada17e62283dd63a5bc45edbe552"
   }
  }
 },
 "nbformat": 4,
 "nbformat_minor": 2
}
